{
 "cells": [
  {
   "cell_type": "markdown",
   "metadata": {},
   "source": [
    "### Here is an example for extract table in a paper\n",
    "\n",
    "#### Alwabel et.al"
   ]
  },
  {
   "cell_type": "markdown",
   "metadata": {},
   "source": [
    "<img src=\"paper.png\">"
   ]
  },
  {
   "cell_type": "markdown",
   "metadata": {},
   "source": [
    "### The table we are going to extract like this"
   ]
  },
  {
   "cell_type": "markdown",
   "metadata": {},
   "source": [
    "<img src=\"table1.png\">"
   ]
  },
  {
   "cell_type": "markdown",
   "metadata": {},
   "source": [
    "#### The table's html file is saved as \"alw_table1.html\""
   ]
  },
  {
   "cell_type": "code",
   "execution_count": 15,
   "metadata": {},
   "outputs": [],
   "source": [
    "from bs4 import BeautifulSoup\n",
    "import re\n",
    "def position_extra(s):\n",
    "    left=re.findall(r'\\bleft:(\\d{2,4})px',s)\n",
    "    top = re.findall(r'\\btop:(\\d{2,4})px', s)\n",
    "    s_ext=[left[0],top[0]]\n",
    "    return s_ext\n",
    "\n",
    "\n",
    "def Extraction(filename):\n",
    "    try:\n",
    "        soup = BeautifulSoup(open(filename,\"r\",encoding='UTF-8'),\"lxml\")\n",
    "    except Exception as e:\n",
    "        soup = BeautifulSoup(open(filename,\"r\"),\"lxml\")\n",
    "    num_div = len(soup.find_all('div'))\n",
    "    style = []\n",
    "    for i in range(num_div):\n",
    "        style.append(soup.find_all('div')[i]['style'])\n",
    "    num_span = []\n",
    "    for i in range(num_div):\n",
    "        num_span.append(len(soup.find_all('div')[i].find_all('span')))\n",
    "    text = []\n",
    "    for i in range(num_div):\n",
    "        t = []\n",
    "        for j in range(num_span[i]):\n",
    "            t.append(soup.find_all('div')[i].find_all('span')[j].text)\n",
    "        text.append(t)\n",
    "    position = []\n",
    "    for i in style:\n",
    "        position.append(position_extra(i))\n",
    "    return text,position\n",
    "\n",
    "def coordinate_transform(ori_list):\n",
    "    list_horizontal=[int(i[0]) for i in ori_list] \n",
    "    list_vertical=[int(i[1]) for i in ori_list] \n",
    "    list_hori=sorted(list_horizontal)\n",
    "    list_ver=sorted(list_vertical)\n",
    "    list_x=sorted(set(list_hori), key = list_hori.index)\n",
    "    list_y=sorted(set(list_ver), key = list_ver.index)\n",
    "    list_x_cor=[]\n",
    "    list_y_cor=[]\n",
    "    for i in list_horizontal:\n",
    "        index=0\n",
    "        list_x_cor.append(list_x.index(i))\n",
    "        index=index+1\n",
    "    for k in list_vertical:\n",
    "        indey=0\n",
    "        list_y_cor.append(list_y.index(k))\n",
    "        indey=indey+1\n",
    "    final_list=[]\n",
    "    for j in range(len(list_x_cor)):\n",
    "        final_list.append([list_x_cor[j],list_y_cor[j]])\n",
    "    return final_list\n",
    "\n",
    "def number_integrate(b):\n",
    "    c=sorted(b)\n",
    "    new_list=[]\n",
    "    new_list.append(c[0])\n",
    "    index1=0\n",
    "    for i in range(len(c)):\n",
    "        if index1>0:\n",
    "            if abs(c[index1]-new_list[index1-1]) <10:\n",
    "                new_list.append(new_list[index1-1])\n",
    "            else:\n",
    "                if abs(c[index1] - c[index1-1])>10:\n",
    "                    new_list.append(c[index1])\n",
    "                else:\n",
    "                    new_list.append(c[index1-1])\n",
    "        index1=index1+1\n",
    "    return new_list\n",
    "\n",
    "def coordinate_transform(ori_list):\n",
    "    list_horizontal=[int(i[0]) for i in ori_list] \n",
    "    list_vertical=[int(i[1]) for i in ori_list] \n",
    "    list_hori=sorted(list_horizontal)\n",
    "    list_ver=sorted(list_vertical)\n",
    "    list_hori2=number_integrate(list_hori)\n",
    "    list_ver2=number_integrate(list_ver)\n",
    "    list_x=sorted(set(list_hori), key = list_hori.index)\n",
    "    list_y=sorted(set(list_ver), key = list_ver.index)\n",
    "    list_x_cor=[]\n",
    "    list_y_cor=[]\n",
    "    for i in list_horizontal:\n",
    "        index=0\n",
    "        list_x_cor.append(list_x.index(i))\n",
    "        index=index+1\n",
    "    for k in list_vertical:\n",
    "        indey=0\n",
    "        list_y_cor.append(list_y.index(k))\n",
    "        indey=indey+1\n",
    "    final_list=[]\n",
    "    for j in range(len(list_x_cor)):\n",
    "        final_list.append([list_x_cor[j],list_y_cor[j]])\n",
    "    return final_list\n",
    "\n",
    "def merge(li):\n",
    "    return ' '.join(li)\n",
    "\n",
    "def insert_list(loc_L,len_L):\n",
    "    F_loc_L=[]\n",
    "    for i,j in enumerate(len_L):\n",
    "        if j==1:\n",
    "            F_loc_L.append(loc_L[i])\n",
    "        elif j>1:\n",
    "            F_loc_L.append(loc_L[i])\n",
    "            for t in range(1,j):\n",
    "                F_loc_L.append([loc_L[i][0],loc_L[i][1]+t])\n",
    "    return F_loc_L\n",
    "\n",
    "def reconf(li):\n",
    "    li_new = []\n",
    "    for j,i in enumerate(li):\n",
    "        li_new.append(merge(i))\n",
    "    t = []\n",
    "    for i in li_new:\n",
    "        t.append(i.split('\\n'))\n",
    "    o = [];nu=''\n",
    "    for i,j in enumerate(t):\n",
    "        if nu in j:\n",
    "            j.remove(nu)\n",
    "            o.append(j)\n",
    "        else:\n",
    "            o.append(j)\n",
    "    new_o = []\n",
    "    for q in o:\n",
    "        if len(q)<=1:\n",
    "            new_o.append(q[0])\n",
    "        else:\n",
    "            for w in range(0,len(q)):\n",
    "                new_o.append(q[w])\n",
    "    len_l = [len(kl) for kl in o]\n",
    "    return o,new_o,len_l"
   ]
  },
  {
   "cell_type": "code",
   "execution_count": 9,
   "metadata": {},
   "outputs": [],
   "source": [
    "a,b = Extraction('alw_table1.html')\n",
    "b = coordinate_transform(b)\n",
    "o, to_be_write, len_l = reconf(a)\n",
    "location = insert_list(b,len_l)"
   ]
  },
  {
   "cell_type": "markdown",
   "metadata": {},
   "source": [
    "### Write to Excel"
   ]
  },
  {
   "cell_type": "code",
   "execution_count": 11,
   "metadata": {},
   "outputs": [],
   "source": [
    "import xlwt\n",
    "f = xlwt.Workbook()\n",
    "sheet1 = f.add_sheet('A',cell_overwrite_ok=True)\n",
    "for n,i in enumerate(location):\n",
    "    sheet1.write(i[1],i[0],to_be_write[n])\n",
    "f.save('table.xls')"
   ]
  },
  {
   "cell_type": "markdown",
   "metadata": {},
   "source": [
    "### Result of Table1"
   ]
  },
  {
   "cell_type": "markdown",
   "metadata": {},
   "source": [
    "<img src='excel.png'>"
   ]
  },
  {
   "cell_type": "markdown",
   "metadata": {},
   "source": [
    "### Extract table 2"
   ]
  },
  {
   "cell_type": "code",
   "execution_count": 16,
   "metadata": {},
   "outputs": [],
   "source": [
    "import xlwt\n",
    "a,b = Extraction('alw_table2.html')\n",
    "b = coordinate_transform(b)\n",
    "o, to_be_write, len_l = reconf(a)\n",
    "location = insert_list(b,len_l)\n",
    "f = xlwt.Workbook()\n",
    "sheet1 = f.add_sheet('A',cell_overwrite_ok=True)\n",
    "for n,i in enumerate(location):\n",
    "    sheet1.write(i[1],i[0],to_be_write[n])\n",
    "f.save('table2.xls')"
   ]
  },
  {
   "cell_type": "markdown",
   "metadata": {},
   "source": [
    "<img src='table2.png'>\n",
    "<img src='excel2.png'>"
   ]
  },
  {
   "cell_type": "markdown",
   "metadata": {},
   "source": [
    "### Extract table 4"
   ]
  },
  {
   "cell_type": "code",
   "execution_count": 17,
   "metadata": {},
   "outputs": [],
   "source": [
    "import xlwt\n",
    "a,b = Extraction('alw_table4.html')\n",
    "b = coordinate_transform(b)\n",
    "o, to_be_write, len_l = reconf(a)\n",
    "location = insert_list(b,len_l)\n",
    "f = xlwt.Workbook()\n",
    "sheet1 = f.add_sheet('A',cell_overwrite_ok=True)\n",
    "for n,i in enumerate(location):\n",
    "    sheet1.write(i[1],i[0],to_be_write[n])\n",
    "f.save('table4.xls')"
   ]
  },
  {
   "cell_type": "markdown",
   "metadata": {},
   "source": [
    "<img src='table4.png'>\n",
    "<img src='excel4_.png'>"
   ]
  },
  {
   "cell_type": "markdown",
   "metadata": {},
   "source": [
    "### For some complicated table, it can only extract part of them prescisely"
   ]
  },
  {
   "cell_type": "code",
   "execution_count": 20,
   "metadata": {},
   "outputs": [],
   "source": [
    "import xlwt\n",
    "a,b = Extraction('more_complicated.html')\n",
    "b = coordinate_transform(b)\n",
    "o, to_be_write, len_l = reconf(a)\n",
    "location = insert_list(b,len_l)\n",
    "f = xlwt.Workbook()\n",
    "sheet1 = f.add_sheet('A',cell_overwrite_ok=True)\n",
    "for n,i in enumerate(location):\n",
    "    sheet1.write(i[1],i[0],to_be_write[n])\n",
    "f.save('morecomplicated.xls')"
   ]
  },
  {
   "cell_type": "markdown",
   "metadata": {},
   "source": [
    "<img src='complicated_table.png'>\n",
    "<img src='complicated result.png'>"
   ]
  }
 ],
 "metadata": {
  "kernelspec": {
   "display_name": "Python 3",
   "language": "python",
   "name": "python3"
  },
  "language_info": {
   "codemirror_mode": {
    "name": "ipython",
    "version": 3
   },
   "file_extension": ".py",
   "mimetype": "text/x-python",
   "name": "python",
   "nbconvert_exporter": "python",
   "pygments_lexer": "ipython3",
   "version": "3.5.5"
  },
  "widgets": {
   "state": {},
   "version": "1.1.2"
  }
 },
 "nbformat": 4,
 "nbformat_minor": 2
}
